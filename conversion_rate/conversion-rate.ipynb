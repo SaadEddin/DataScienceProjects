{
 "cells": [
  {
   "cell_type": "code",
   "execution_count": 1,
   "metadata": {
    "collapsed": false
   },
   "outputs": [
    {
     "name": "stderr",
     "output_type": "stream",
     "text": [
      "/Users/sonnyshaughnessy/anaconda2/lib/python2.7/site-packages/matplotlib/__init__.py:872: UserWarning: axes.color_cycle is deprecated and replaced with axes.prop_cycle; please use the latter.\n",
      "  warnings.warn(self.msg_depr % (key, alt_key))\n"
     ]
    }
   ],
   "source": [
    "import numpy as np\n",
    "import pandas as pd\n",
    "import matplotlib.pyplot as plt\n",
    "import seaborn as sns\n",
    "%matplotlib inline"
   ]
  },
  {
   "cell_type": "markdown",
   "metadata": {},
   "source": [
    "### Goal: predict customers to convert\n",
    "\n",
    "Using the dataset below, we will do some exploration and data analysis before building a model that will predict whether a customer converts or not."
   ]
  },
  {
   "cell_type": "code",
   "execution_count": 2,
   "metadata": {
    "collapsed": true
   },
   "outputs": [],
   "source": [
    "# Read the data\n",
    "data = pd.read_csv('conversion_data.csv')"
   ]
  },
  {
   "cell_type": "code",
   "execution_count": 3,
   "metadata": {
    "collapsed": false
   },
   "outputs": [
    {
     "name": "stdout",
     "output_type": "stream",
     "text": [
      "Head: \n",
      "  country  age  new_user source  total_pages_visited  converted\n",
      "0      UK   25         1    Ads                    1          0\n",
      "1      US   23         1    Seo                    5          0\n",
      "2      US   28         1    Seo                    4          0\n",
      "3   China   39         1    Seo                    5          0\n",
      "4      US   30         1    Seo                    6          0\n",
      "\n",
      "Rows:  316200\n"
     ]
    }
   ],
   "source": [
    "print \"Head: \"\n",
    "print data.head()\n",
    "print\n",
    "print \"Rows: \", len(data)\n"
   ]
  },
  {
   "cell_type": "code",
   "execution_count": 4,
   "metadata": {
    "collapsed": false
   },
   "outputs": [
    {
     "name": "stdout",
     "output_type": "stream",
     "text": [
      "There are  4  unique countries:  ['UK' 'US' 'China' 'Germany']\n"
     ]
    }
   ],
   "source": [
    "print \"There are \", len(data.country.unique()), \" unique countries: \",  data.country.unique()"
   ]
  },
  {
   "cell_type": "code",
   "execution_count": 5,
   "metadata": {
    "collapsed": false
   },
   "outputs": [
    {
     "name": "stdout",
     "output_type": "stream",
     "text": [
      "There are  3  unique sources:  ['Ads' 'Seo' 'Direct']\n"
     ]
    }
   ],
   "source": [
    "print \"There are \", len(data.source.unique()), \" unique sources: \",  data.source.unique()"
   ]
  },
  {
   "cell_type": "code",
   "execution_count": 6,
   "metadata": {
    "collapsed": false
   },
   "outputs": [
    {
     "name": "stdout",
     "output_type": "stream",
     "text": [
      "Ratio of new users  0.685464895636\n"
     ]
    }
   ],
   "source": [
    "print \"Ratio of new users \", 1.0*len(data[data.new_user == 1])/len(data)"
   ]
  },
  {
   "cell_type": "code",
   "execution_count": 7,
   "metadata": {
    "collapsed": false
   },
   "outputs": [
    {
     "name": "stdout",
     "output_type": "stream",
     "text": [
      "Ratio of users who converted  0.0322580645161\n"
     ]
    }
   ],
   "source": [
    "print \"Ratio of users who converted \", 1.0*len(data[data.converted == 1])/len(data)"
   ]
  },
  {
   "cell_type": "code",
   "execution_count": 8,
   "metadata": {
    "collapsed": false
   },
   "outputs": [
    {
     "data": {
      "text/plain": [
       "array([[<matplotlib.axes._subplots.AxesSubplot object at 0x10dd81690>]], dtype=object)"
      ]
     },
     "execution_count": 8,
     "metadata": {},
     "output_type": "execute_result"
    },
    {
     "data": {
      "image/png": "[encoded data removed]",
      "text/plain": [
       "<matplotlib.figure.Figure at 0x10dd6e950>"
      ]
     },
     "metadata": {},
     "output_type": "display_data"
    }
   ],
   "source": [
    "data.hist(column='total_pages_visited')"
   ]
  },
  {
   "cell_type": "code",
   "execution_count": 9,
   "metadata": {
    "collapsed": false
   },
   "outputs": [
    {
     "data": {
      "text/plain": [
       "array([[<matplotlib.axes._subplots.AxesSubplot object at 0x10df72650>]], dtype=object)"
      ]
     },
     "execution_count": 9,
     "metadata": {},
     "output_type": "execute_result"
    },
    {
     "data": {
      "image/png": "[encoded data removed]",
      "text/plain": [
       "<matplotlib.figure.Figure at 0x10dd6ea10>"
      ]
     },
     "metadata": {},
     "output_type": "display_data"
    }
   ],
   "source": [
    "data.hist(column='age')"
   ]
  },
  {
   "cell_type": "markdown",
   "metadata": {},
   "source": [
    "We will start with a Gradient Boosting Classifier. First, apply hot encoding for the categorical features."
   ]
  },
  {
   "cell_type": "code",
   "execution_count": 32,
   "metadata": {
    "collapsed": false
   },
   "outputs": [
    {
     "name": "stdout",
     "output_type": "stream",
     "text": [
      "\n"
     ]
    }
   ],
   "source": [
    "from sklearn.ensemble import GradientBoostingClassifier, RandomForestClassifier\n",
    "from sklearn.cross_validation import train_test_split\n",
    "from sklearn.grid_search import GridSearchCV\n",
    "from sklearn.metrics import classification_report\n",
    "from sklearn.metrics import roc_curve, auc, roc_auc_score"
   ]
  },
  {
   "cell_type": "code",
   "execution_count": 11,
   "metadata": {
    "collapsed": false
   },
   "outputs": [],
   "source": [
    "# One hot encoding - join newly generated columns to the data frame\n",
    "data = data.join(pd.get_dummies(data.source))\n",
    "data = data.join(pd.get_dummies(data.country))\n",
    "data = data.join(pd.get_dummies(data.new_user))"
   ]
  },
  {
   "cell_type": "code",
   "execution_count": 12,
   "metadata": {
    "collapsed": false
   },
   "outputs": [],
   "source": [
    "# drop one-hot encoded columns\n",
    "data.drop(['country','source', 'new_user'], 1, inplace=True)"
   ]
  },
  {
   "cell_type": "code",
   "execution_count": 13,
   "metadata": {
    "collapsed": false
   },
   "outputs": [],
   "source": [
    "# fix col names\n",
    "col_names = list(data.columns)\n",
    "col_names[-1] = \"new_user\"\n",
    "col_names[-2] = \"returning_user\"\n",
    "data.columns = col_names"
   ]
  },
  {
   "cell_type": "code",
   "execution_count": 14,
   "metadata": {
    "collapsed": false
   },
   "outputs": [
    {
     "data": {
      "text/html": [
       "<div>\n",
       "<table border=\"1\" class=\"dataframe\">\n",
       "  <thead>\n",
       "    <tr style=\"text-align: right;\">\n",
       "      <th></th>\n",
       "      <th>age</th>\n",
       "      <th>total_pages_visited</th>\n",
       "      <th>converted</th>\n",
       "      <th>Ads</th>\n",
       "      <th>Direct</th>\n",
       "      <th>Seo</th>\n",
       "      <th>China</th>\n",
       "      <th>Germany</th>\n",
       "      <th>UK</th>\n",
       "      <th>US</th>\n",
       "      <th>returning_user</th>\n",
       "      <th>new_user</th>\n",
       "    </tr>\n",
       "  </thead>\n",
       "  <tbody>\n",
       "    <tr>\n",
       "      <th>0</th>\n",
       "      <td>25</td>\n",
       "      <td>1</td>\n",
       "      <td>0</td>\n",
       "      <td>1</td>\n",
       "      <td>0</td>\n",
       "      <td>0</td>\n",
       "      <td>0</td>\n",
       "      <td>0</td>\n",
       "      <td>1</td>\n",
       "      <td>0</td>\n",
       "      <td>0</td>\n",
       "      <td>1</td>\n",
       "    </tr>\n",
       "    <tr>\n",
       "      <th>1</th>\n",
       "      <td>23</td>\n",
       "      <td>5</td>\n",
       "      <td>0</td>\n",
       "      <td>0</td>\n",
       "      <td>0</td>\n",
       "      <td>1</td>\n",
       "      <td>0</td>\n",
       "      <td>0</td>\n",
       "      <td>0</td>\n",
       "      <td>1</td>\n",
       "      <td>0</td>\n",
       "      <td>1</td>\n",
       "    </tr>\n",
       "    <tr>\n",
       "      <th>2</th>\n",
       "      <td>28</td>\n",
       "      <td>4</td>\n",
       "      <td>0</td>\n",
       "      <td>0</td>\n",
       "      <td>0</td>\n",
       "      <td>1</td>\n",
       "      <td>0</td>\n",
       "      <td>0</td>\n",
       "      <td>0</td>\n",
       "      <td>1</td>\n",
       "      <td>0</td>\n",
       "      <td>1</td>\n",
       "    </tr>\n",
       "    <tr>\n",
       "      <th>3</th>\n",
       "      <td>39</td>\n",
       "      <td>5</td>\n",
       "      <td>0</td>\n",
       "      <td>0</td>\n",
       "      <td>0</td>\n",
       "      <td>1</td>\n",
       "      <td>1</td>\n",
       "      <td>0</td>\n",
       "      <td>0</td>\n",
       "      <td>0</td>\n",
       "      <td>0</td>\n",
       "      <td>1</td>\n",
       "    </tr>\n",
       "    <tr>\n",
       "      <th>4</th>\n",
       "      <td>30</td>\n",
       "      <td>6</td>\n",
       "      <td>0</td>\n",
       "      <td>0</td>\n",
       "      <td>0</td>\n",
       "      <td>1</td>\n",
       "      <td>0</td>\n",
       "      <td>0</td>\n",
       "      <td>0</td>\n",
       "      <td>1</td>\n",
       "      <td>0</td>\n",
       "      <td>1</td>\n",
       "    </tr>\n",
       "  </tbody>\n",
       "</table>\n",
       "</div>"
      ],
      "text/plain": [
       "   age  total_pages_visited  converted  Ads  Direct  Seo  China  Germany  UK  \\\n",
       "0   25                    1          0    1       0    0      0        0   1   \n",
       "1   23                    5          0    0       0    1      0        0   0   \n",
       "2   28                    4          0    0       0    1      0        0   0   \n",
       "3   39                    5          0    0       0    1      1        0   0   \n",
       "4   30                    6          0    0       0    1      0        0   0   \n",
       "\n",
       "   US  returning_user  new_user  \n",
       "0   0               0         1  \n",
       "1   1               0         1  \n",
       "2   1               0         1  \n",
       "3   0               0         1  \n",
       "4   1               0         1  "
      ]
     },
     "execution_count": 14,
     "metadata": {},
     "output_type": "execute_result"
    }
   ],
   "source": [
    "data.head()"
   ]
  },
  {
   "cell_type": "code",
   "execution_count": 15,
   "metadata": {
    "collapsed": false
   },
   "outputs": [],
   "source": [
    "# Get feature names\n",
    "features = col_names\n",
    "features.remove('converted')"
   ]
  },
  {
   "cell_type": "code",
   "execution_count": 16,
   "metadata": {
    "collapsed": false
   },
   "outputs": [],
   "source": [
    "# Convert df to np 2D array and divide data into training and testing sets\n",
    "X = data[features].as_matrix()\n",
    "y = data['converted'].as_matrix()\n",
    "X_train, X_test, y_train, y_test = train_test_split(X, y, test_size=0.33, random_state=42)"
   ]
  },
  {
   "cell_type": "code",
   "execution_count": 17,
   "metadata": {
    "collapsed": false
   },
   "outputs": [
    {
     "data": {
      "text/plain": [
       "GradientBoostingClassifier(init=None, learning_rate=0.05, loss='deviance',\n",
       "              max_depth=25, max_features=None, max_leaf_nodes=8,\n",
       "              min_samples_leaf=1, min_samples_split=5,\n",
       "              min_weight_fraction_leaf=0.0, n_estimators=1000,\n",
       "              presort='auto', random_state=2, subsample=1.0, verbose=0,\n",
       "              warm_start=False)"
      ]
     },
     "execution_count": 17,
     "metadata": {},
     "output_type": "execute_result"
    }
   ],
   "source": [
    "# Set the parameters\n",
    "original_params = {'n_estimators': 1000, 'max_depth': 25, 'max_leaf_nodes':8 , 'random_state': 2,\n",
    "                   'min_samples_split': 5, 'learning_rate': 0.05}\n",
    "\n",
    "# Train the classifier\n",
    "clf = GradientBoostingClassifier(**original_params)\n",
    "clf.fit(X_train, y_train)"
   ]
  },
  {
   "cell_type": "code",
   "execution_count": 18,
   "metadata": {
    "collapsed": false
   },
   "outputs": [],
   "source": [
    "# Predict classification results on the test set\n",
    "y_pred = clf.predict(X_test)"
   ]
  },
  {
   "cell_type": "code",
   "execution_count": 19,
   "metadata": {
    "collapsed": false
   },
   "outputs": [],
   "source": [
    "output = pd.DataFrame({'test_label' : y_test,\n",
    " 'test_predicted' : y_pred\n",
    "  })"
   ]
  },
  {
   "cell_type": "code",
   "execution_count": 20,
   "metadata": {
    "collapsed": false
   },
   "outputs": [
    {
     "name": "stdout",
     "output_type": "stream",
     "text": [
      "tpr:  2251\n",
      "tnr:  100638\n",
      "fpr:  427\n",
      "fnr:  1030\n"
     ]
    }
   ],
   "source": [
    "# Compute the FPR, TPR, TNR and FNR\n",
    "print \"tpr: \", len(output[(output.test_label == output.test_predicted) & (output.test_label == 1)])\n",
    "print \"tnr: \", len(output[(output.test_label == output.test_predicted) & (output.test_label == 0)])\n",
    "print \"fpr: \", len(output[(output.test_label != output.test_predicted) & (output.test_label == 0)])\n",
    "print \"fnr: \", len(output[(output.test_label != output.test_predicted) & (output.test_label == 1)])"
   ]
  },
  {
   "cell_type": "code",
   "execution_count": 21,
   "metadata": {
    "collapsed": false
   },
   "outputs": [
    {
     "name": "stdout",
     "output_type": "stream",
     "text": [
      "             precision    recall  f1-score   support\n",
      "\n",
      "          0       0.99      1.00      0.99    101065\n",
      "          1       0.84      0.69      0.76      3281\n",
      "\n",
      "avg / total       0.99      0.99      0.99    104346\n",
      "\n"
     ]
    }
   ],
   "source": [
    "print classification_report(y_test, y_pred)"
   ]
  },
  {
   "cell_type": "markdown",
   "metadata": {},
   "source": [
    "#### ROC-AUC Curve"
   ]
  },
  {
   "cell_type": "code",
   "execution_count": 65,
   "metadata": {
    "collapsed": false
   },
   "outputs": [
    {
     "name": "stdout",
     "output_type": "stream",
     "text": [
      " ROC-AUC Score:  0.985350517145\n"
     ]
    }
   ],
   "source": [
    "# Compute ROC curve and ROC area for each class\n",
    "preds = clf.predict_proba(X_test)[:,1]\n",
    "fpr, tpr, thresh = roc_curve(y_test, preds)\n",
    "print \"ROC-AUC Score: \", roc_auc_score(y_test, preds)"
   ]
  },
  {
   "cell_type": "code",
   "execution_count": 66,
   "metadata": {
    "collapsed": false
   },
   "outputs": [
    {
     "data": {
      "image/png": "[encoded data removed]",
      "text/plain": [
       "<matplotlib.figure.Figure at 0x110f3f410>"
      ]
     },
     "metadata": {},
     "output_type": "display_data"
    }
   ],
   "source": [
    "plt.figure()\n",
    "plt.plot(fpr, tpr, label='ROC curve')\n",
    "plt.plot([0, 1], [0, 1], 'k--')\n",
    "plt.xlim([0.0, 1.0])\n",
    "plt.ylim([0.0, 1.05])\n",
    "plt.xlabel('False Positive Rate')\n",
    "plt.ylabel('True Positive Rate')\n",
    "plt.title('Receiver operating characteristic example')\n",
    "plt.legend(loc=\"lower right\")\n",
    "plt.show()"
   ]
  },
  {
   "cell_type": "markdown",
   "metadata": {},
   "source": [
    "From the ROC-AUC curve above, we can see that we can gain better results by changing the threshold to a value between 0.8 - 0.85, where we get a higher TPR while the FPR is still the same. After ~0.85 for the threshold, we'll start to get high FPR and the performance starts degrading.\n",
    "\n",
    "A lot of factors go into this decision since it is dependent on what needs to be achieved and what compromises can be tolerated."
   ]
  },
  {
   "cell_type": "markdown",
   "metadata": {},
   "source": [
    "### Random Forests\n",
    "\n",
    "Random forests have many advantages, such as robustness to outliers or unnecessary variables. Also, using a random forest just out of the box almost always give satisfactory results, with the default params. Before building the model, here is some feature exploration for wrong values or for insights from features."
   ]
  },
  {
   "cell_type": "code",
   "execution_count": null,
   "metadata": {
    "collapsed": false
   },
   "outputs": [],
   "source": [
    "data.describe()"
   ]
  },
  {
   "cell_type": "markdown",
   "metadata": {},
   "source": [
    "Age 123 is suspecious. It could be for many reasons such as data entry, etc...\n",
    "\n",
    "Filter out all ages more than 95"
   ]
  },
  {
   "cell_type": "code",
   "execution_count": null,
   "metadata": {
    "collapsed": true
   },
   "outputs": [],
   "source": [
    "# Reject all rows where age is more than 95\n",
    "data = data[data.age < 95]\n",
    "# New distribution of 'age'\n",
    "print data.age.describe()"
   ]
  },
  {
   "cell_type": "markdown",
   "metadata": {
    "collapsed": false
   },
   "source": [
    "Let's compare the conversion rate / country and see if some countries have higher conversion rate than others."
   ]
  },
  {
   "cell_type": "code",
   "execution_count": null,
   "metadata": {
    "collapsed": false
   },
   "outputs": [],
   "source": [
    "# See the conversion rate / country\n",
    "data_raw = pd.read_csv('conversion_data.csv')\n",
    "conv_rates = data_raw.groupby(by='country').converted.mean()"
   ]
  },
  {
   "cell_type": "code",
   "execution_count": null,
   "metadata": {
    "collapsed": false
   },
   "outputs": [],
   "source": [
    "data_raw.head()"
   ]
  },
  {
   "cell_type": "code",
   "execution_count": null,
   "metadata": {
    "collapsed": false
   },
   "outputs": [],
   "source": [
    "_ = conv_rates.plot(kind='bar', title='Conversion Rate / Country')"
   ]
  },
  {
   "cell_type": "code",
   "execution_count": null,
   "metadata": {
    "collapsed": false
   },
   "outputs": [],
   "source": [
    "# Let's plot the total_pages_visited vs conversion_rate\n",
    "data_raw = pd.read_csv('conversion_data.csv')\n",
    "conv_rates = data_raw.groupby(by='total_pages_visited').converted.mean()\n",
    "_ = conv_rates.plot(title='conversion rate / # of visited pages',ylim=(-.1, 1.1))"
   ]
  },
  {
   "cell_type": "code",
   "execution_count": null,
   "metadata": {
    "collapsed": true
   },
   "outputs": [],
   "source": [
    "data_raw = pd.read_csv('conversion_data.csv')"
   ]
  },
  {
   "cell_type": "markdown",
   "metadata": {},
   "source": [
    "We can see above that the higher the total number of pages visited, the higher probability of conversion ..."
   ]
  },
  {
   "cell_type": "code",
   "execution_count": null,
   "metadata": {
    "collapsed": false
   },
   "outputs": [],
   "source": [
    "from sklearn.cross_validation import cross_val_score\n",
    "from sklearn.ensemble import RandomForestClassifier"
   ]
  },
  {
   "cell_type": "code",
   "execution_count": null,
   "metadata": {
    "collapsed": false
   },
   "outputs": [],
   "source": [
    "# One hot encoding - join newly generated columns to the data frame\n",
    "data_raw = data_raw.join(pd.get_dummies(data_raw.source))\n",
    "data_raw = data_raw.join(pd.get_dummies(data_raw.country))\n",
    "data_raw = data_raw.join(pd.get_dummies(data_raw.new_user))"
   ]
  },
  {
   "cell_type": "code",
   "execution_count": null,
   "metadata": {
    "collapsed": true
   },
   "outputs": [],
   "source": [
    "# drop one-hot encoded columns\n",
    "data_raw.drop(['country','source', 'new_user'], 1, inplace=True)\n",
    "\n",
    "# fix col names\n",
    "col_names = list(data_raw.columns)\n",
    "col_names[-1] = \"new_user\"\n",
    "col_names[-2] = \"returning_user\"\n",
    "\n",
    "data_raw.columns = col_names"
   ]
  },
  {
   "cell_type": "code",
   "execution_count": null,
   "metadata": {
    "collapsed": true
   },
   "outputs": [],
   "source": [
    "from sklearn.preprocessing import LabelEncoder\n",
    "data_raw['source'] = LabelEncoder().fit_transform(data_raw['source'])\n",
    "data_raw['country'] = LabelEncoder().fit_transform(data_raw['country'])"
   ]
  },
  {
   "cell_type": "code",
   "execution_count": null,
   "metadata": {
    "collapsed": false
   },
   "outputs": [],
   "source": [
    "data_raw.head()"
   ]
  },
  {
   "cell_type": "code",
   "execution_count": null,
   "metadata": {
    "collapsed": false
   },
   "outputs": [],
   "source": [
    "# Get feature names\n",
    "col_names = list(data_raw.columns)\n",
    "features = col_names\n",
    "features.remove('converted')\n",
    "\n",
    "# removed \"total_pages_visited because it is NOT actionable\n",
    "# features.remove('total_pages_visited')\n",
    "\n",
    "# Convert df to np 2D array and divide data into training and testing sets\n",
    "X = data_raw[features].as_matrix()\n",
    "y = data_raw['converted'].as_matrix()\n",
    "X_train, X_test, y_train, y_test = train_test_split(X, y, test_size=0.33, random_state=42)"
   ]
  },
  {
   "cell_type": "code",
   "execution_count": null,
   "metadata": {
    "collapsed": false
   },
   "outputs": [],
   "source": [
    "clf = RandomForestClassifier(n_estimators=100, max_depth=None, max_features=3)"
   ]
  },
  {
   "cell_type": "code",
   "execution_count": null,
   "metadata": {
    "collapsed": false
   },
   "outputs": [],
   "source": [
    "X"
   ]
  },
  {
   "cell_type": "code",
   "execution_count": null,
   "metadata": {
    "collapsed": false
   },
   "outputs": [],
   "source": [
    "# We have imbalanced data and would like to use a sample weight vector as an argument\n",
    "w = sum(y_train == 0) / sum(y_train == 1)\n",
    "print \"Negative Class Samples / Positive Class Samples is \", w\n",
    "sample_weight = np.array([w/2 if elem == 1 else 1 for elem in y_train])\n",
    "clf.fit(X_train, y_train)"
   ]
  },
  {
   "cell_type": "code",
   "execution_count": null,
   "metadata": {
    "collapsed": false
   },
   "outputs": [],
   "source": [
    "y_pred = clf.predict(X_test)"
   ]
  },
  {
   "cell_type": "code",
   "execution_count": null,
   "metadata": {
    "collapsed": false
   },
   "outputs": [],
   "source": [
    "print classification_report(y_test, y_pred)"
   ]
  },
  {
   "cell_type": "code",
   "execution_count": null,
   "metadata": {
    "collapsed": false
   },
   "outputs": [],
   "source": [
    "output = pd.DataFrame({'test_label' : y_test,\n",
    " 'test_predicted' : y_pred\n",
    "  })\n",
    "\n",
    "print \"Classifier 1:\"\n",
    "print \"tpr:  2266\"\n",
    "print \"tnr:  100632\"\n",
    "print \"fpr:  433\"\n",
    "print \"fnr:  1015\"\n",
    "print \"***********************\"\n",
    "print \"Classifier 2: \"\n",
    "print \"tpr: \", len(output[(output.test_label == output.test_predicted) & (output.test_label == 1)])\n",
    "print \"tnr: \", len(output[(output.test_label == output.test_predicted) & (output.test_label == 0)])\n",
    "print \"fpr: \", len(output[(output.test_label != output.test_predicted) & (output.test_label == 0)])\n",
    "print \"fnr: \", len(output[(output.test_label != output.test_predicted) & (output.test_label == 1)])"
   ]
  },
  {
   "cell_type": "code",
   "execution_count": null,
   "metadata": {
    "collapsed": false
   },
   "outputs": [],
   "source": [
    "print classification_report(y_test, y_pred)"
   ]
  },
  {
   "cell_type": "code",
   "execution_count": null,
   "metadata": {
    "collapsed": false
   },
   "outputs": [],
   "source": [
    "features = list(data_raw.columns)"
   ]
  },
  {
   "cell_type": "code",
   "execution_count": null,
   "metadata": {
    "collapsed": false
   },
   "outputs": [],
   "source": [
    "importances = clf.feature_importances_\n",
    "dictionary = dict(zip(features, importances))\n",
    "std = np.std([tree.feature_importances_ for tree in clf.estimators_],\n",
    "             axis=0)\n",
    "indices = np.argsort(importances)[::-1]\n",
    "\n",
    "# Print the feature ranking\n",
    "print(\"Feature ranking:\")\n",
    "\n",
    "for f in range(X.shape[1]):\n",
    "    print(\"%d. feature %d (%f)\" % (f + 1, indices[f], importances[indices[f]]))\n",
    "\n",
    "# Plot the feature importances of the forest\n",
    "plt.figure()\n",
    "plt.title(\"Feature importances\")\n",
    "plt.bar(range(X.shape[1]), importances[indices],\n",
    "       color=\"r\", yerr=std[indices], align=\"center\")\n",
    "plt.xticks(range(X.shape[1]), indices)\n",
    "plt.xlim([-1, X.shape[1]])\n",
    "plt.show()"
   ]
  },
  {
   "cell_type": "code",
   "execution_count": null,
   "metadata": {
    "collapsed": false
   },
   "outputs": [],
   "source": [
    "print \"1st Most important feature: \", features[4]\n",
    "print \"2nd Most important feature: \", features[1]\n",
    "print \"3rd Most important feature: \", features[0]\n",
    "print \"4th Most important feature: \", features[2]\n",
    "print \"5th Most important feature: \", features[3]"
   ]
  },
  {
   "cell_type": "code",
   "execution_count": null,
   "metadata": {
    "collapsed": false
   },
   "outputs": [],
   "source": []
  },
  {
   "cell_type": "code",
   "execution_count": null,
   "metadata": {
    "collapsed": true
   },
   "outputs": [],
   "source": []
  }
 ],
 "metadata": {
  "kernelspec": {
   "display_name": "Python 2",
   "language": "python",
   "name": "python2"
  },
  "language_info": {
   "codemirror_mode": {
    "name": "ipython",
    "version": 2
   },
   "file_extension": ".py",
   "mimetype": "text/x-python",
   "name": "python",
   "nbconvert_exporter": "python",
   "pygments_lexer": "ipython2",
   "version": "2.7.10"
  }
 },
 "nbformat": 4,
 "nbformat_minor": 0
}
